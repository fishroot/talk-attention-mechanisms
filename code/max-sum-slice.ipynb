{
 "cells": [
  {
   "cell_type": "markdown",
   "metadata": {},
   "source": [
    "# Maximum Sum of Slices\n",
    "\n",
    "> <br>**Write a function**:<br><br>\n",
    "> That takes a non-empty list `xs` of integers as input<br>\n",
    "> and returns the maximum sum of any slice of `xs` or $0$ if negative<br><br>\n",
    "> **Requirements**\n",
    "> * Time Complexity: $O(n)$<br><br>"
   ]
  },
  {
   "cell_type": "markdown",
   "metadata": {},
   "source": [
    "> <br>**Examples**<br>\n",
    "> * If the input is [1, 2, 3, -4], the output should be 6.\n",
    "> * If the input is [-1, -2, -3, -4], the output should be 0.<br><br>"
   ]
  },
  {
   "cell_type": "markdown",
   "metadata": {},
   "source": [
    "### Solution\n",
    "\n",
    "Use Signature: `max_sum_slice(xs)`"
   ]
  },
  {
   "cell_type": "code",
   "execution_count": 1,
   "metadata": {},
   "outputs": [],
   "source": [
    "def max_sum_slice(xs):\n",
    "    max_sum = 0\n",
    "    for i in range(len(xs)):\n",
    "        for j in range(i, len(xs)):\n",
    "            if sum(xs[i:j+1]) > max_sum:\n",
    "                max_sum = sum(xs[i:j+1])\n",
    "    return max_sum"
   ]
  },
  {
   "cell_type": "markdown",
   "metadata": {},
   "source": [
    "### Test"
   ]
  },
  {
   "cell_type": "code",
   "execution_count": 3,
   "metadata": {},
   "outputs": [
    {
     "name": "stdout",
     "output_type": "stream",
     "text": [
      "Test [1, 2, 3, -4] passed\n",
      "Test [-1, -2, -3, -4] passed\n"
     ]
    }
   ],
   "source": [
    "def test(solution):\n",
    "    tests = [\n",
    "        ([1, 2, 3, -4], 6),\n",
    "        ([-1, -2, -3, -4], 0)\n",
    "    ]\n",
    "\n",
    "    for list_in, int_shall in tests:\n",
    "        int_is = solution(list_in)\n",
    "        if int_is == int_shall:\n",
    "            print(f\"Test {list_in} passed 👍\")\n",
    "        else:\n",
    "            print(f\"Test {list_in} failed 👎: got {int_is}, expected {int_shall}\")\n",
    "\n",
    "test(max_sum_slice)"
   ]
  },
  {
   "cell_type": "code",
   "execution_count": null,
   "metadata": {},
   "outputs": [],
   "source": [
    "def max_sum_slice(xs):\n",
    "    "
   ]
  }
 ],
 "metadata": {
  "kernelspec": {
   "display_name": "Python 3.9.12 ('base')",
   "language": "python",
   "name": "python3"
  },
  "language_info": {
   "codemirror_mode": {
    "name": "ipython",
    "version": 3
   },
   "file_extension": ".py",
   "mimetype": "text/x-python",
   "name": "python",
   "nbconvert_exporter": "python",
   "pygments_lexer": "ipython3",
   "version": "3.9.12"
  },
  "orig_nbformat": 4,
  "vscode": {
   "interpreter": {
    "hash": "ad2bdc8ecc057115af97d19610ffacc2b4e99fae6737bb82f5d7fb13d2f2c186"
   }
  }
 },
 "nbformat": 4,
 "nbformat_minor": 2
}
