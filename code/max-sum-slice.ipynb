{
 "cells": [
  {
   "cell_type": "markdown",
   "metadata": {},
   "source": [
    "# Maximum Sum of Slices\n",
    "\n",
    "> <br>**Write a function**:<br><br>\n",
    "> That takes a non-empty list `xs` of integers as input<br>\n",
    "> and returns the maximum sum of any slice of `xs` or $0$ if negative<br><br>\n",
    "> **Requirements**\n",
    "> * Time Complexity: $O(n)$<br><br>"
   ]
  },
  {
   "cell_type": "markdown",
   "metadata": {},
   "source": [
    "> <br>**Examples**<br>\n",
    "> * If the input is [1, 2, 3, -4], the output should be 6.\n",
    "> * If the input is [-1, -2, -3, -4], the output should be 0.<br><br>"
   ]
  },
  {
   "cell_type": "markdown",
   "metadata": {},
   "source": [
    "### Solution\n",
    "\n",
    "Use Signature: `max_sum_slice(xs)`"
   ]
  },
  {
   "cell_type": "code",
   "execution_count": null,
   "metadata": {},
   "outputs": [],
   "source": []
  },
  {
   "cell_type": "markdown",
   "metadata": {},
   "source": [
    "### Test\n",
    "\n",
    "Defines and runs test -> Just run the cell"
   ]
  },
  {
   "cell_type": "code",
   "execution_count": 2,
   "metadata": {},
   "outputs": [
    {
     "ename": "NameError",
     "evalue": "name 'max_sum_slice' is not defined",
     "output_type": "error",
     "traceback": [
      "\u001b[1;31m---------------------------------------------------------------------------\u001b[0m",
      "\u001b[1;31mNameError\u001b[0m                                 Traceback (most recent call last)",
      "\u001b[1;32mc:\\Users\\patri\\GitHub\\talk-attention-please-2022\\code\\max-sum-slice.ipynb Cell 6'\u001b[0m in \u001b[0;36m<cell line: 14>\u001b[1;34m()\u001b[0m\n\u001b[0;32m     <a href='vscode-notebook-cell:/c%3A/Users/patri/GitHub/talk-attention-please-2022/code/max-sum-slice.ipynb#ch0000005?line=10'>11</a>\u001b[0m         \u001b[39melse\u001b[39;00m:\n\u001b[0;32m     <a href='vscode-notebook-cell:/c%3A/Users/patri/GitHub/talk-attention-please-2022/code/max-sum-slice.ipynb#ch0000005?line=11'>12</a>\u001b[0m             \u001b[39mprint\u001b[39m(\u001b[39mf\u001b[39m\u001b[39m\"\u001b[39m\u001b[39m👎 Test \u001b[39m\u001b[39m{\u001b[39;00mlist_in\u001b[39m}\u001b[39;00m\u001b[39m failed: got \u001b[39m\u001b[39m{\u001b[39;00mint_is\u001b[39m}\u001b[39;00m\u001b[39m, expected \u001b[39m\u001b[39m{\u001b[39;00mint_shall\u001b[39m}\u001b[39;00m\u001b[39m\"\u001b[39m)\n\u001b[1;32m---> <a href='vscode-notebook-cell:/c%3A/Users/patri/GitHub/talk-attention-please-2022/code/max-sum-slice.ipynb#ch0000005?line=13'>14</a>\u001b[0m test(max_sum_slice)\n",
      "\u001b[1;31mNameError\u001b[0m: name 'max_sum_slice' is not defined"
     ]
    }
   ],
   "source": [
    "def run_tests(solution):\n",
    "    tests = [\n",
    "        ([1, 2, 3, -4], 6),\n",
    "        ([-1, -2, -3, -4], 0)\n",
    "    ]\n",
    "\n",
    "    for list_in, int_shall in tests:\n",
    "        int_is = solution(list_in)\n",
    "        if int_is == int_shall:\n",
    "            print(f\"👍 Test {list_in} passed\")\n",
    "        else:\n",
    "            print(f\"👎 Test {list_in} failed: got {int_is}, expected {int_shall}\")\n",
    "\n",
    "run_tests(max_sum_slice)"
   ]
  },
  {
   "cell_type": "code",
   "execution_count": null,
   "metadata": {},
   "outputs": [],
   "source": [
    "   "
   ]
  }
 ],
 "metadata": {
  "kernelspec": {
   "display_name": "Python 3.9.12 ('base')",
   "language": "python",
   "name": "python3"
  },
  "language_info": {
   "codemirror_mode": {
    "name": "ipython",
    "version": 3
   },
   "file_extension": ".py",
   "mimetype": "text/x-python",
   "name": "python",
   "nbconvert_exporter": "python",
   "pygments_lexer": "ipython3",
   "version": "3.9.12"
  },
  "orig_nbformat": 4,
  "vscode": {
   "interpreter": {
    "hash": "ad2bdc8ecc057115af97d19610ffacc2b4e99fae6737bb82f5d7fb13d2f2c186"
   }
  }
 },
 "nbformat": 4,
 "nbformat_minor": 2
}
